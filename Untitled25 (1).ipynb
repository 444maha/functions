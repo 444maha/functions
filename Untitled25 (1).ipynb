{
 "cells": [
  {
   "cell_type": "code",
   "execution_count": 3,
   "id": "10c78e6b-1606-413b-848c-76f74d229347",
   "metadata": {},
   "outputs": [
    {
     "name": "stdin",
     "output_type": "stream",
     "text": [
      "enter your name: maa\n"
     ]
    },
    {
     "name": "stdout",
     "output_type": "stream",
     "text": [
      "welcome maa\n"
     ]
    }
   ],
   "source": [
    "def get_name():\n",
    "    name=input(\"enter your name:\")\n",
    "    return name\n",
    "username=get_name()\n",
    "print(\"welcome\",username)"
   ]
  },
  {
   "cell_type": "code",
   "execution_count": 13,
   "id": "c602027f-60ca-4b4d-87f9-f652dd38c5f6",
   "metadata": {},
   "outputs": [
    {
     "name": "stdout",
     "output_type": "stream",
     "text": [
      "188\n"
     ]
    }
   ],
   "source": [
    "a=100\n",
    "def value(a):\n",
    "  return a+88\n",
    "op=value(a)\n",
    "print(op)"
   ]
  },
  {
   "cell_type": "code",
   "execution_count": 19,
   "id": "ee895d9d-baf3-4eba-a241-c27f091f32b2",
   "metadata": {},
   "outputs": [
    {
     "name": "stdout",
     "output_type": "stream",
     "text": [
      "243\n"
     ]
    }
   ],
   "source": [
    "a=143\n",
    "def value(a):\n",
    "    return a+100\n",
    "print(value(a))"
   ]
  },
  {
   "cell_type": "code",
   "execution_count": 21,
   "id": "0886e5cf-818f-4bdd-bdd6-7c92d0fbca48",
   "metadata": {},
   "outputs": [
    {
     "name": "stdin",
     "output_type": "stream",
     "text": [
      "enter data: 4\n"
     ]
    },
    {
     "name": "stdout",
     "output_type": "stream",
     "text": [
      "hello 4\n"
     ]
    }
   ],
   "source": [
    "def hi(name):\n",
    "    print(\"hello\",name)\n",
    "a=int(input(\"enter data:\"))\n",
    "hi(a)"
   ]
  },
  {
   "cell_type": "code",
   "execution_count": 23,
   "id": "cf9fd07d-0b67-459e-97f9-05614ff5947b",
   "metadata": {},
   "outputs": [
    {
     "name": "stdin",
     "output_type": "stream",
     "text": [
      "enter data: 4\n"
     ]
    },
    {
     "name": "stdout",
     "output_type": "stream",
     "text": [
      "hello guest\n",
      "hello 4\n"
     ]
    }
   ],
   "source": [
    "def hi(name='guest'):\n",
    "    print(\"hello\",name)\n",
    "a=int(input(\"enter data:\"))\n",
    "hi()\n",
    "hi(a)"
   ]
  },
  {
   "cell_type": "code",
   "execution_count": 31,
   "id": "747e794c-3e84-49b4-bf10-59379970910e",
   "metadata": {},
   "outputs": [
    {
     "name": "stdout",
     "output_type": "stream",
     "text": [
      "name: bindu\n",
      "age 99\n",
      "name: hima\n",
      "age 0\n",
      "name: unknown\n",
      "age 100\n",
      "name: unknown\n",
      "age 0\n"
     ]
    }
   ],
   "source": [
    "def info(name='unknown',age=0):\n",
    "         print(\"name:\",name)\n",
    "         print(\"age\",age)\n",
    "info(\"bindu\",99)\n",
    "info(\"hima\")\n",
    "info(age=100)\n",
    "info()"
   ]
  },
  {
   "cell_type": "code",
   "execution_count": 33,
   "id": "44c12550-462b-4feb-9e84-622cc7b9a2ad",
   "metadata": {},
   "outputs": [
    {
     "name": "stdin",
     "output_type": "stream",
     "text": [
      "enter a: 5\n",
      "enter b: 4\n"
     ]
    },
    {
     "name": "stdout",
     "output_type": "stream",
     "text": [
      "sum= 9\n",
      "subtract= 1\n",
      "product= 20\n",
      "divide= 1.25\n"
     ]
    }
   ],
   "source": [
    "def cal(a,b):\n",
    "    return a+b,a-b,a*b,a/b\n",
    "a=int(input(\"enter a:\"))\n",
    "b=int(input(\"enter b:\"))\n",
    "sum,diff,pro,div=cal(a,b)\n",
    "print(\"sum=\",sum)\n",
    "print(\"subtract=\",diff)\n",
    "print(\"product=\",pro)\n",
    "print(\"divide=\",div)"
   ]
  },
  {
   "cell_type": "code",
   "execution_count": 51,
   "id": "bd04594d-3ce3-4cd1-8f25-300fb0845d73",
   "metadata": {},
   "outputs": [
    {
     "name": "stdin",
     "output_type": "stream",
     "text": [
      "enter the num1 4\n",
      "enter the num2 6\n",
      "enter the num3 8\n"
     ]
    },
    {
     "name": "stdout",
     "output_type": "stream",
     "text": [
      "maximum: 8\n",
      "minimum: 4\n"
     ]
    }
   ],
   "source": [
    "'''write a function that receives 3 values from user & check the max&min values in the same \n",
    "function & return the max & min values to the main program & print it on display'''\n",
    "def max_min(num1,num2,num3):\n",
    "    return max(num1,num2,num3),min(num1,num2,num3)\n",
    "num1=int(input(\"enter the num1\"))\n",
    "num2=int(input(\"enter the num2\"))\n",
    "num3=int(input(\"enter the num3\"))\n",
    "maxi,mini=max_min(num1,num2,num3)\n",
    "print(\"maximum:\",maxi)\n",
    "print(\"minimum:\",mini) \n",
    "        "
   ]
  },
  {
   "cell_type": "code",
   "execution_count": 61,
   "id": "b36e0db1-7166-4de3-b11b-14ea14d628cc",
   "metadata": {},
   "outputs": [
    {
     "name": "stdin",
     "output_type": "stream",
     "text": [
      "enter the numbers as space seperated:  88 66 44 33 22 77\n"
     ]
    },
    {
     "name": "stdout",
     "output_type": "stream",
     "text": [
      "even count: 4\n",
      "odd count: 2\n"
     ]
    }
   ],
   "source": [
    "''' write a function to count the list of even and odd numbers...caliculate the even odd\n",
    "confirmationin the function such the evaluated numbers list will be passed to the main \n",
    "program''' \n",
    "'''constraint:give the input as user define'''\n",
    "def eo(numbers):\n",
    "    e=0\n",
    "    o=0\n",
    "    for n in numbers:\n",
    "        if n%2==0:\n",
    "            e+=1\n",
    "        else:\n",
    "            o+=1\n",
    "    return e,o\n",
    "num=input(\"enter the numbers as space seperated:\")\n",
    "num_list=list(map(int,num.split()))\n",
    "e,o=eo(num_list)\n",
    "print(\"even count:\",e)\n",
    "print(\"odd count:\",o)     \n"
   ]
  },
  {
   "cell_type": "code",
   "execution_count": null,
   "id": "cb52c3ac-b7d0-4bef-8c3e-e50ca740f8f3",
   "metadata": {},
   "outputs": [],
   "source": []
  }
 ],
 "metadata": {
  "kernelspec": {
   "display_name": "Python 3 (ipykernel)",
   "language": "python",
   "name": "python3"
  },
  "language_info": {
   "codemirror_mode": {
    "name": "ipython",
    "version": 3
   },
   "file_extension": ".py",
   "mimetype": "text/x-python",
   "name": "python",
   "nbconvert_exporter": "python",
   "pygments_lexer": "ipython3",
   "version": "3.12.7"
  }
 },
 "nbformat": 4,
 "nbformat_minor": 5
}
