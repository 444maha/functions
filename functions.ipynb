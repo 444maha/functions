{
 "cells": [
  {
   "cell_type": "code",
   "execution_count": 19,
   "id": "cb430194-3f1e-418d-b6aa-6e895fc5d311",
   "metadata": {},
   "outputs": [
    {
     "name": "stdout",
     "output_type": "stream",
     "text": [
      "this is a outer function...........\n",
      "this is an inner function.........\n"
     ]
    }
   ],
   "source": [
    "def outer():\n",
    "    print(\"this is a outer function...........\")\n",
    "    def inner():\n",
    "        print(\"this is an inner function.........\")\n",
    "    inner()\n",
    "outer()\n",
    "        "
   ]
  },
  {
   "cell_type": "code",
   "execution_count": 5,
   "id": "cbfd0066-f5a9-4e0d-9de5-6fd699b0aa27",
   "metadata": {},
   "outputs": [
    {
     "name": "stdout",
     "output_type": "stream",
     "text": [
      "[1, 4, 9, 16, 25, 36, 49, 64, 81, 100]\n"
     ]
    }
   ],
   "source": [
    "#lambda function()\n",
    "nums=[1,2,3,4,5,6,7,8,9,10]\n",
    "sq=list(map(lambda n:n*n,nums))\n",
    "print(sq)"
   ]
  },
  {
   "cell_type": "code",
   "execution_count": 17,
   "id": "c65655bb-dd44-445b-838d-3296a2d3c121",
   "metadata": {},
   "outputs": [
    {
     "name": "stdin",
     "output_type": "stream",
     "text": [
      "enter a number: 4\n",
      "enter a number: 5\n"
     ]
    },
    {
     "name": "stdout",
     "output_type": "stream",
     "text": [
      "addition 9\n",
      "subtract -1\n",
      "product 20\n",
      "division 0.8\n"
     ]
    }
   ],
   "source": [
    "def cal(a,b):\n",
    "    def add():\n",
    "        return a+b\n",
    "    def sub():\n",
    "            return a-b\n",
    "    def mul():\n",
    "            return a*b\n",
    "    def div():\n",
    "            return a/b\n",
    "    print(\"addition\",add())\n",
    "    print(\"subtract\",sub())\n",
    "    print(\"product\",mul())\n",
    "    print(\"division\",div())\n",
    "a=int(input(\"enter a number:\"))\n",
    "b=int(input(\"enter a number:\"))\n",
    "cal(a,b)\n",
    "\n",
    "\n",
    "    "
   ]
  },
  {
   "cell_type": "code",
   "execution_count": 21,
   "id": "e01b51e3-dd22-4abd-a256-950cbe4aaf16",
   "metadata": {},
   "outputs": [
    {
     "name": "stdout",
     "output_type": "stream",
     "text": [
      "10\n",
      "30\n"
     ]
    }
   ],
   "source": [
    "def mul_by(n):\n",
    "    def inner(x):# call inner function x=5\n",
    "         return x*n#x*2 x*3\n",
    "    return inner\n",
    "times_2=mul_by(2) #n=2,\n",
    "times_3=mul_by(3) #n=3\n",
    "print(times_2(5))\n",
    "print(times_3(10))\n"
   ]
  },
  {
   "cell_type": "code",
   "execution_count": 25,
   "id": "697c13a3-595c-4908-8846-2d07bbc799d6",
   "metadata": {},
   "outputs": [
    {
     "name": "stdout",
     "output_type": "stream",
     "text": [
      "hello,hima!!!!!!\n"
     ]
    }
   ],
   "source": [
    "def greet(text):\n",
    "    def inner(name):\n",
    "        return f\"{text},{name}!!!!!!\"\n",
    "    return inner\n",
    "hi=greet('hello')\n",
    "print(hi('hima'))"
   ]
  },
  {
   "cell_type": "code",
   "execution_count": 27,
   "id": "12152d4a-8a1e-40c2-9f28-882bf72588f9",
   "metadata": {},
   "outputs": [
    {
     "name": "stdout",
     "output_type": "stream",
     "text": [
      "hello,mr.alice\n",
      "hello,dr.harry\n"
     ]
    }
   ],
   "source": [
    "def titled(title):\n",
    "    def greet(name):\n",
    "        return f\"hello,{title}{name}\"\n",
    "    return greet\n",
    "mr_greet=titled(\"mr.\")\n",
    "dr_greet=titled(\"dr.\")\n",
    "print(mr_greet(\"alice\"))\n",
    "print(dr_greet(\"harry\"))"
   ]
  },
  {
   "cell_type": "code",
   "execution_count": 33,
   "id": "a194542e-65ef-4917-83a3-2ce495ceacee",
   "metadata": {},
   "outputs": [
    {
     "name": "stdout",
     "output_type": "stream",
     "text": [
      "x= 22\n",
      "locally 32\n",
      "x= 100\n",
      "25\n",
      "latest value of y globally: 25\n",
      "globally 125\n"
     ]
    }
   ],
   "source": [
    "x=100\n",
    "y=10\n",
    "def display():\n",
    "    x=22\n",
    "    print (\"x=\",x)\n",
    "    print(\"locally\",x+y)\n",
    "display()\n",
    "print(\"x=\",x)\n",
    "y=10\n",
    "y=25\n",
    "print(y)\n",
    "print(\"latest value of y globally:\",y)\n",
    "print(\"globally\",x+y)"
   ]
  },
  {
   "cell_type": "code",
   "execution_count": 43,
   "id": "2396b032-4f33-49fa-97fb-4a6a15131039",
   "metadata": {},
   "outputs": [
    {
     "name": "stdin",
     "output_type": "stream",
     "text": [
      "enter marks of a subject: 44\n"
     ]
    },
    {
     "name": "stdout",
     "output_type": "stream",
     "text": [
      "subject1 marks: 44\n"
     ]
    },
    {
     "name": "stdin",
     "output_type": "stream",
     "text": [
      "enter marks of a subject: 66\n"
     ]
    },
    {
     "name": "stdout",
     "output_type": "stream",
     "text": [
      "subject2 marks: 66\n"
     ]
    },
    {
     "name": "stdin",
     "output_type": "stream",
     "text": [
      "enter marks of a subject: 77\n"
     ]
    },
    {
     "name": "stdout",
     "output_type": "stream",
     "text": [
      "subject3 marks: 77\n",
      "total marks stored in global: 187\n"
     ]
    }
   ],
   "source": [
    "total=0\n",
    "def add_subject_marks():\n",
    "    global total\n",
    "    marks= int(input(\"enter marks of a subject:\"))\n",
    "    total+=marks\n",
    "    return marks\n",
    "print(\"subject1 marks:\",add_subject_marks())\n",
    "print(\"subject2 marks:\",add_subject_marks())\n",
    "print(\"subject3 marks:\",add_subject_marks())\n",
    "print(\"total marks stored in global:\",total)"
   ]
  },
  {
   "cell_type": "code",
   "execution_count": 49,
   "id": "d86bb0bb-74f3-42f5-bd58-acb07b495abf",
   "metadata": {},
   "outputs": [
    {
     "name": "stdin",
     "output_type": "stream",
     "text": [
      "enter marks for a subject: 44\n"
     ]
    },
    {
     "name": "stdout",
     "output_type": "stream",
     "text": [
      "subject 1 marks: 44\n"
     ]
    },
    {
     "name": "stdin",
     "output_type": "stream",
     "text": [
      "enter marks for a subject: 66\n"
     ]
    },
    {
     "name": "stdout",
     "output_type": "stream",
     "text": [
      "subject 2 marks: 66\n"
     ]
    },
    {
     "name": "stdin",
     "output_type": "stream",
     "text": [
      "enter marks for a subject: 77\n"
     ]
    },
    {
     "name": "stdout",
     "output_type": "stream",
     "text": [
      "subject 3 marks: 77\n"
     ]
    },
    {
     "name": "stdin",
     "output_type": "stream",
     "text": [
      "enter marks for a subject: 88\n"
     ]
    },
    {
     "name": "stdout",
     "output_type": "stream",
     "text": [
      "allsubject marks 88\n",
      "total marks 275\n",
      "Average 68.75\n"
     ]
    }
   ],
   "source": [
    "subject_marks=[]\n",
    "def add_subject_marks():\n",
    "    mark=int(input(\"enter marks for a subject:\"))\n",
    "    subject_marks.append(mark)\n",
    "    return mark\n",
    "print(\"subject 1 marks:\",add_subject_marks())\n",
    "print(\"subject 2 marks:\",add_subject_marks())\n",
    "print(\"subject 3 marks:\",add_subject_marks())\n",
    "print(\"allsubject marks\",add_subject_marks())\n",
    "total=sum(subject_marks)\n",
    "L=len(subject_marks)\n",
    "avg=total/L\n",
    "print(\"total marks\",total)\n",
    "print(\"Average\",avg)\n",
    "\n",
    "    "
   ]
  },
  {
   "cell_type": "code",
   "execution_count": null,
   "id": "ce3ea8b3-3e01-453c-9989-4958b2dcddfe",
   "metadata": {},
   "outputs": [],
   "source": []
  }
 ],
 "metadata": {
  "kernelspec": {
   "display_name": "Python 3 (ipykernel)",
   "language": "python",
   "name": "python3"
  },
  "language_info": {
   "codemirror_mode": {
    "name": "ipython",
    "version": 3
   },
   "file_extension": ".py",
   "mimetype": "text/x-python",
   "name": "python",
   "nbconvert_exporter": "python",
   "pygments_lexer": "ipython3",
   "version": "3.12.7"
  }
 },
 "nbformat": 4,
 "nbformat_minor": 5
}
