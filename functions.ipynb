{
 "cells": [
  {
   "cell_type": "code",
   "execution_count": 7,
   "id": "d597fb57-075e-444b-8336-4dbf83204a8a",
   "metadata": {},
   "outputs": [
    {
     "name": "stdin",
     "output_type": "stream",
     "text": [
      "enter a number 5\n"
     ]
    },
    {
     "name": "stdout",
     "output_type": "stream",
     "text": [
      "factorial of 5 is 120\n"
     ]
    }
   ],
   "source": [
    "fact=1\n",
    "def factorial(n):\n",
    "    global fact\n",
    "    fact=1\n",
    "    for i in range(1,n+1):\n",
    "        fact*=i\n",
    "    return fact\n",
    "num=int(input(\"enter a number\"))\n",
    "if num<0:\n",
    "    print(\"cannot derive fact for-ve numbers\")\n",
    "else: \n",
    "    factorial(num)\n",
    "    print(f\"factorial of {num} is\",fact)\n"
   ]
  },
  {
   "cell_type": "code",
   "execution_count": 11,
   "id": "2428d951-4ca9-405e-a197-85ff7367bab4",
   "metadata": {},
   "outputs": [
    {
     "name": "stdin",
     "output_type": "stream",
     "text": [
      "enter the value: 5\n"
     ]
    },
    {
     "name": "stdout",
     "output_type": "stream",
     "text": [
      "120\n"
     ]
    }
   ],
   "source": [
    "#function with in a function\n",
    "def factorfial(n):\n",
    "    if n==0 or n==1:\n",
    "        return 1\n",
    "    return n*factorial(n-1)    \n",
    "num=int(input(\"enter the value:\"))\n",
    "value=factorial(num)\n",
    "print(value)"
   ]
  },
  {
   "cell_type": "code",
   "execution_count": 17,
   "id": "5f01ebcf-2a44-442b-9c2b-44afdf8e4f1a",
   "metadata": {},
   "outputs": [
    {
     "name": "stdin",
     "output_type": "stream",
     "text": [
      "enter n: 5\n"
     ]
    },
    {
     "name": "stdout",
     "output_type": "stream",
     "text": [
      "sum of first 5 natural numbers is 15\n"
     ]
    }
   ],
   "source": [
    "#sum of n natural numbers by using recurssion function\n",
    "def nsum(n):\n",
    "    if n==0:\n",
    "        return 0\n",
    "    return n+nsum(n-1)\n",
    "num=int(input(\"enter n:\"))\n",
    "print(\"sum of first\",num,\"natural numbers is\",nsum(num))"
   ]
  },
  {
   "cell_type": "code",
   "execution_count": 21,
   "id": "63f81ef0-201d-4066-b850-a56adad3928c",
   "metadata": {},
   "outputs": [
    {
     "name": "stdin",
     "output_type": "stream",
     "text": [
      "enter a word missipi\n"
     ]
    },
    {
     "name": "stdout",
     "output_type": "stream",
     "text": [
      "ipissim\n"
     ]
    }
   ],
   "source": [
    "#recursions functions by strings\n",
    "def rstring(s):\n",
    "    if len(s)==0:\n",
    "        return s\n",
    "    return rstring(s[1:])+s[0]\n",
    "text=input(\"enter a word\")\n",
    "print(rstring(text))"
   ]
  },
  {
   "cell_type": "code",
   "execution_count": 23,
   "id": "f1748706-f4e4-4fa0-9604-7871e983ac3a",
   "metadata": {},
   "outputs": [
    {
     "name": "stdout",
     "output_type": "stream",
     "text": [
      "5\n",
      "55\n"
     ]
    }
   ],
   "source": [
    "'''positional arg-*arg(1,2,3,4,5,)(1.1,2.,3.3,),('a','b','c')('apple','cat')'''\n",
    "def sumnum(*args):\n",
    "    print(args[4])\n",
    "    return sum(args)\n",
    "print(sumnum(1,2,3,4,5,6,7,8,9,10))\n"
   ]
  },
  {
   "cell_type": "code",
   "execution_count": 27,
   "id": "cecf9721-6a33-49dd-b832-90734d3b217f",
   "metadata": {},
   "outputs": [
    {
     "name": "stdout",
     "output_type": "stream",
     "text": [
      "6\n",
      "55\n"
     ]
    }
   ],
   "source": [
    "def sumnum(*args):\n",
    "    print(args[5])\n",
    "    return sum(args)\n",
    "print(sumnum(1,2,3,4,5,6,7,8,9,10))\n"
   ]
  },
  {
   "cell_type": "code",
   "execution_count": 37,
   "id": "a9896144-692e-425c-b66b-fc3305029b67",
   "metadata": {},
   "outputs": [
    {
     "name": "stdout",
     "output_type": "stream",
     "text": [
      "9\n",
      "1\n"
     ]
    }
   ],
   "source": [
    "def sumnum(*args):\n",
    "    print(args[8])\n",
    "    return min(args)\n",
    "print(sumnum(1,2,3,4,5,6,7,8,9,10))\n"
   ]
  },
  {
   "cell_type": "code",
   "execution_count": 39,
   "id": "5acd164a-4b88-4059-a165-fc1fcea52dcf",
   "metadata": {},
   "outputs": [
    {
     "name": "stdout",
     "output_type": "stream",
     "text": [
      "9\n",
      "10\n"
     ]
    }
   ],
   "source": [
    "\n",
    "def sumnum(*args):\n",
    "    print(args[8])\n",
    "    return max(args)\n",
    "print(sumnum(1,2,3,4,5,6,7,8,9,10))\n"
   ]
  },
  {
   "cell_type": "code",
   "execution_count": 45,
   "id": "947fca92-b7ad-49f7-891c-b9b8e0c65566",
   "metadata": {},
   "outputs": [
    {
     "name": "stdout",
     "output_type": "stream",
     "text": [
      "4\n",
      "[1, 2, 3, 4, 4, 4, 4, 4, 4, 4, 4, 4, 5, 9, 10, 444]\n"
     ]
    }
   ],
   "source": [
    "def sumnum(*args):\n",
    "    print(args[8])\n",
    "    return sorted(args)\n",
    "print(sumnum(1,2,3,4,5,4,4,4,4,4,4,4,4,444,9,10))\n"
   ]
  },
  {
   "cell_type": "code",
   "execution_count": 47,
   "id": "0921f3f1-fc7a-4db7-a16b-0ab834f67c07",
   "metadata": {},
   "outputs": [
    {
     "name": "stdout",
     "output_type": "stream",
     "text": [
      "4\n",
      "1\n"
     ]
    }
   ],
   "source": [
    "def sumnum(*args):\n",
    "    print(args[8])\n",
    "    return min(args)\n",
    "print(sumnum(1,2,3,4,5,4,4,4,4,4,4,4,4,444,9,10))\n"
   ]
  },
  {
   "cell_type": "code",
   "execution_count": 57,
   "id": "92ff1807-e3f2-4b33-99e9-ef127b0c9167",
   "metadata": {},
   "outputs": [
    {
     "name": "stdout",
     "output_type": "stream",
     "text": [
      "name:hima\n",
      "age:44\n",
      "cgpa:9.9\n"
     ]
    }
   ],
   "source": [
    "'''keyword args **kwargs'''\n",
    "def info(**kwargs):\n",
    "    for key,value in kwargs.items():\n",
    "        print(f\"{key}:{value}\")\n",
    "info(name='hima',age=44,cgpa=9.9)\n"
   ]
  },
  {
   "cell_type": "code",
   "execution_count": 70,
   "id": "9b0f2be3-0d4c-4cc5-8317-780fa57b293d",
   "metadata": {},
   "outputs": [
    {
     "name": "stdout",
     "output_type": "stream",
     "text": [
      "name:hima\n",
      "age:44\n",
      "cgpa:9.9\n",
      "name:hima\n"
     ]
    }
   ],
   "source": [
    "'''keyword args **kwargs'''\n",
    "def info(**kwargs):\n",
    "    for key,value in kwargs.items():\n",
    "        print(f\"{key}:{value}\")\n",
    "    name=kwargs[\"name\"]\n",
    "    print(f\"name:{name}\")\n",
    "info(name='hima',age=44,cgpa=9.9)"
   ]
  },
  {
   "cell_type": "code",
   "execution_count": 68,
   "id": "aa28fe30-9fa4-4683-89ed-261818a0d549",
   "metadata": {},
   "outputs": [
    {
     "name": "stdout",
     "output_type": "stream",
     "text": [
      "values: dict_values(['hima', 44, 9.9])\n",
      "________________\n",
      "('name', 'hima')\n",
      "('age', 44)\n",
      "('cgpa', 9.9)\n"
     ]
    }
   ],
   "source": [
    "def info(**kwargs):\n",
    "    print(\"values:\",kwargs.values())\n",
    "    print(\"________________\")\n",
    "    for value in kwargs.items():\n",
    "        print(value)\n",
    "info(name='hima',age=44,cgpa=9.9)\n"
   ]
  },
  {
   "cell_type": "code",
   "execution_count": null,
   "id": "78a35677-1a51-4729-a434-87d3dd5705b3",
   "metadata": {},
   "outputs": [],
   "source": [
    "'''recursions\n",
    "direct recursion-function calls itself\n",
    "indirect-function calling another functions\n",
    "head _first rec call\n",
    "tail-last rec call\n",
    "nested -rec with-in rec\n",
    "tree-'''"
   ]
  }
 ],
 "metadata": {
  "kernelspec": {
   "display_name": "Python 3 (ipykernel)",
   "language": "python",
   "name": "python3"
  },
  "language_info": {
   "codemirror_mode": {
    "name": "ipython",
    "version": 3
   },
   "file_extension": ".py",
   "mimetype": "text/x-python",
   "name": "python",
   "nbconvert_exporter": "python",
   "pygments_lexer": "ipython3",
   "version": "3.12.7"
  }
 },
 "nbformat": 4,
 "nbformat_minor": 5
}
