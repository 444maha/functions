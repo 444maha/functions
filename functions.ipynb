{
 "cells": [
  {
   "cell_type": "code",
   "execution_count": 1,
   "id": "b95349a5-e7b7-402b-88f7-41af1ebad860",
   "metadata": {},
   "outputs": [
    {
     "name": "stdout",
     "output_type": "stream",
     "text": [
      "hello students\n",
      "himahimahimahimahima\n"
     ]
    }
   ],
   "source": [
    "#functions\n",
    "'''syntax:\n",
    "def functionname(parameter)'''\n",
    "def hi():\n",
    "    print(\"hello students\") #esponses of calle\n",
    "    print(\"hima\"*5)\n",
    "hi()#caller"
   ]
  },
  {
   "cell_type": "code",
   "execution_count": 11,
   "id": "c7908036-62d0-4f99-a9f3-e1455c3e38c7",
   "metadata": {},
   "outputs": [
    {
     "name": "stdin",
     "output_type": "stream",
     "text": [
      "enter the money 7\n",
      "enter the money 8\n"
     ]
    },
    {
     "name": "stdout",
     "output_type": "stream",
     "text": [
      "total amount: 15\n"
     ]
    }
   ],
   "source": [
    "#functions with pameters\n",
    "def add(a,b):\n",
    "    return a+b\n",
    "student1=int(input(\"enter the money\"))\n",
    "student2=int(input(\"enter the money\"))\n",
    "total=add(student1,student2)\n",
    "print(\"total amount:\",total)\n",
    "\n",
    "             "
   ]
  },
  {
   "cell_type": "code",
   "execution_count": 13,
   "id": "1ee4729b-1fec-4d1f-9208-6546c8413539",
   "metadata": {},
   "outputs": [
    {
     "name": "stdin",
     "output_type": "stream",
     "text": [
      "enter the money 4\n",
      "enter the money 6\n"
     ]
    },
    {
     "name": "stdout",
     "output_type": "stream",
     "text": [
      "total: 10\n"
     ]
    }
   ],
   "source": [
    "'''arg pass no return value'''\n",
    "def add(student1,student2):\n",
    "    print(\"total:\",student1+student2)\n",
    "student1=int(input(\"enter the money\"))\n",
    "student2=int(input(\"enter the money\"))\n",
    "add(student1,student2) \n",
    "\n",
    "             "
   ]
  },
  {
   "cell_type": "code",
   "execution_count": 15,
   "id": "22b820d1-2a14-492e-9e74-d0a33cf78fe1",
   "metadata": {},
   "outputs": [
    {
     "name": "stdout",
     "output_type": "stream",
     "text": [
      "value in the function is 3.14159\n"
     ]
    }
   ],
   "source": [
    "#functions without args \n",
    "def value():\n",
    "    return 3.14159\n",
    "result=value()\n",
    "print(\"value in the function is\",result)"
   ]
  },
  {
   "cell_type": "code",
   "execution_count": 17,
   "id": "415166aa-6ff7-4d95-b39f-baa930db96cf",
   "metadata": {},
   "outputs": [],
   "source": [
    "def get_name():\n",
    "    name=input(\"enter your name:  \")\n",
    "    return name\n",
    "    username=get_name()\n",
    "    print(\"welcome\",username)"
   ]
  },
  {
   "cell_type": "code",
   "execution_count": null,
   "id": "d0a7dcce-14df-403b-ba99-06da43015a16",
   "metadata": {},
   "outputs": [],
   "source": []
  }
 ],
 "metadata": {
  "kernelspec": {
   "display_name": "Python 3 (ipykernel)",
   "language": "python",
   "name": "python3"
  },
  "language_info": {
   "codemirror_mode": {
    "name": "ipython",
    "version": 3
   },
   "file_extension": ".py",
   "mimetype": "text/x-python",
   "name": "python",
   "nbconvert_exporter": "python",
   "pygments_lexer": "ipython3",
   "version": "3.12.7"
  }
 },
 "nbformat": 4,
 "nbformat_minor": 5
}
